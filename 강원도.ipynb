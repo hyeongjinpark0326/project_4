{
 "cells": [
  {
   "cell_type": "code",
   "execution_count": 66,
   "id": "f8c4859f",
   "metadata": {},
   "outputs": [],
   "source": [
    "import pandas as pd\n",
    "import matplotlib.pyplot as plt\n",
    "import seaborn as sns\n",
    "import numpy as np\n",
    "import plotly\n",
    "import plotly.express as px\n",
    "from matplotlib import font_manager , rc\n",
    "import matplotlib"
   ]
  },
  {
   "cell_type": "code",
   "execution_count": 153,
   "id": "25d93060",
   "metadata": {},
   "outputs": [],
   "source": [
    "plt.rc('font', family='Malgun Gothic')"
   ]
  },
  {
   "cell_type": "code",
   "execution_count": 88,
   "id": "46f2a8db",
   "metadata": {},
   "outputs": [],
   "source": [
    "font_path=\"c:/Windows/fonts/malgun.ttf\"\n",
    "font_name=font_manager.FontProperties(fname=font_path).get_name()"
   ]
  },
  {
   "cell_type": "code",
   "execution_count": 127,
   "id": "c45cb42f",
   "metadata": {},
   "outputs": [],
   "source": [
    "df = pd.read_csv('C:/Users/HJ/Desktop/team/fire/강원도 산불 현황 데이터(칼럼명추가).csv', encoding='cp949')"
   ]
  },
  {
   "cell_type": "code",
   "execution_count": 210,
   "id": "8adf1406",
   "metadata": {
    "scrolled": false
   },
   "outputs": [
    {
     "data": {
      "text/html": [
       "<div>\n",
       "<style scoped>\n",
       "    .dataframe tbody tr th:only-of-type {\n",
       "        vertical-align: middle;\n",
       "    }\n",
       "\n",
       "    .dataframe tbody tr th {\n",
       "        vertical-align: top;\n",
       "    }\n",
       "\n",
       "    .dataframe thead th {\n",
       "        text-align: right;\n",
       "    }\n",
       "</style>\n",
       "<table border=\"1\" class=\"dataframe\">\n",
       "  <thead>\n",
       "    <tr style=\"text-align: right;\">\n",
       "      <th></th>\n",
       "      <th>사망자수</th>\n",
       "      <th>부상자수</th>\n",
       "      <th>인명피해수</th>\n",
       "      <th>재산피해금액</th>\n",
       "      <th>출동소요시간</th>\n",
       "      <th>화재진압시간</th>\n",
       "      <th>시도명</th>\n",
       "      <th>시군구명</th>\n",
       "      <th>읍면동명</th>\n",
       "      <th>장소대분류명</th>\n",
       "      <th>...</th>\n",
       "      <th>발화원인</th>\n",
       "      <th>발화열원명</th>\n",
       "      <th>발화열원소분류명</th>\n",
       "      <th>최초착화물소분류명</th>\n",
       "      <th>전체인력수합계</th>\n",
       "      <th>날씨</th>\n",
       "      <th>온도</th>\n",
       "      <th>습도</th>\n",
       "      <th>풍향</th>\n",
       "      <th>풍속</th>\n",
       "    </tr>\n",
       "  </thead>\n",
       "  <tbody>\n",
       "    <tr>\n",
       "      <th>0</th>\n",
       "      <td>0.0</td>\n",
       "      <td>0.0</td>\n",
       "      <td>0.0</td>\n",
       "      <td>0.0</td>\n",
       "      <td>0:17:00</td>\n",
       "      <td>0:18:00</td>\n",
       "      <td>강원도</td>\n",
       "      <td>강릉시</td>\n",
       "      <td>죽헌동</td>\n",
       "      <td>임야</td>\n",
       "      <td>...</td>\n",
       "      <td>기타</td>\n",
       "      <td>담뱃불, 라이터불</td>\n",
       "      <td>방화의심</td>\n",
       "      <td>풀, 나뭇잎</td>\n",
       "      <td>37.0</td>\n",
       "      <td>맑음</td>\n",
       "      <td>-1.0</td>\n",
       "      <td>30.0</td>\n",
       "      <td>북동</td>\n",
       "      <td>5~8 m/s</td>\n",
       "    </tr>\n",
       "    <tr>\n",
       "      <th>1</th>\n",
       "      <td>0.0</td>\n",
       "      <td>0.0</td>\n",
       "      <td>0.0</td>\n",
       "      <td>184330.0</td>\n",
       "      <td>0:16:15</td>\n",
       "      <td>15:59:52</td>\n",
       "      <td>강원도</td>\n",
       "      <td>양양군</td>\n",
       "      <td>현남면</td>\n",
       "      <td>임야</td>\n",
       "      <td>...</td>\n",
       "      <td>기타</td>\n",
       "      <td>불꽃, 불티</td>\n",
       "      <td>불씨,불꽃,화원방치</td>\n",
       "      <td>풀, 나뭇잎</td>\n",
       "      <td>1872.0</td>\n",
       "      <td>맑음</td>\n",
       "      <td>1.0</td>\n",
       "      <td>10.0</td>\n",
       "      <td>남서</td>\n",
       "      <td>5~8 m/s</td>\n",
       "    </tr>\n",
       "    <tr>\n",
       "      <th>2</th>\n",
       "      <td>0.0</td>\n",
       "      <td>0.0</td>\n",
       "      <td>0.0</td>\n",
       "      <td>0.0</td>\n",
       "      <td>0:06:34</td>\n",
       "      <td>1:23:00</td>\n",
       "      <td>강원도</td>\n",
       "      <td>강릉시</td>\n",
       "      <td>대전동</td>\n",
       "      <td>임야</td>\n",
       "      <td>...</td>\n",
       "      <td>기타</td>\n",
       "      <td>기타</td>\n",
       "      <td>방화의심</td>\n",
       "      <td>잔디</td>\n",
       "      <td>184.0</td>\n",
       "      <td>맑음</td>\n",
       "      <td>1.2</td>\n",
       "      <td>550.0</td>\n",
       "      <td>남동</td>\n",
       "      <td>0~4 m/s</td>\n",
       "    </tr>\n",
       "    <tr>\n",
       "      <th>3</th>\n",
       "      <td>0.0</td>\n",
       "      <td>0.0</td>\n",
       "      <td>0.0</td>\n",
       "      <td>4864.0</td>\n",
       "      <td>0:22:40</td>\n",
       "      <td>2:05:00</td>\n",
       "      <td>강원도</td>\n",
       "      <td>홍천군</td>\n",
       "      <td>내촌면</td>\n",
       "      <td>임야</td>\n",
       "      <td>...</td>\n",
       "      <td>기타 입산자실화</td>\n",
       "      <td>기타</td>\n",
       "      <td>기타</td>\n",
       "      <td>풀, 나뭇잎</td>\n",
       "      <td>171.0</td>\n",
       "      <td>구름많음</td>\n",
       "      <td>-2.0</td>\n",
       "      <td>29.0</td>\n",
       "      <td>남서</td>\n",
       "      <td>0~4 m/s</td>\n",
       "    </tr>\n",
       "    <tr>\n",
       "      <th>4</th>\n",
       "      <td>0.0</td>\n",
       "      <td>0.0</td>\n",
       "      <td>0.0</td>\n",
       "      <td>50.0</td>\n",
       "      <td>0:20:19</td>\n",
       "      <td>3:50:09</td>\n",
       "      <td>강원도</td>\n",
       "      <td>원주시</td>\n",
       "      <td>귀래면</td>\n",
       "      <td>임야</td>\n",
       "      <td>...</td>\n",
       "      <td>모닥불</td>\n",
       "      <td>불꽃, 불티</td>\n",
       "      <td>불씨,불꽃,화원방치</td>\n",
       "      <td>풀, 나뭇잎</td>\n",
       "      <td>94.0</td>\n",
       "      <td>구름많음</td>\n",
       "      <td>-6.0</td>\n",
       "      <td>44.0</td>\n",
       "      <td>남서</td>\n",
       "      <td>0~4 m/s</td>\n",
       "    </tr>\n",
       "  </tbody>\n",
       "</table>\n",
       "<p>5 rows × 24 columns</p>\n",
       "</div>"
      ],
      "text/plain": [
       "   사망자수  부상자수  인명피해수    재산피해금액   출동소요시간    화재진압시간  시도명 시군구명 읍면동명 장소대분류명  ...  \\\n",
       "0   0.0   0.0    0.0       0.0  0:17:00   0:18:00  강원도  강릉시  죽헌동     임야  ...   \n",
       "1   0.0   0.0    0.0  184330.0  0:16:15  15:59:52  강원도  양양군  현남면     임야  ...   \n",
       "2   0.0   0.0    0.0       0.0  0:06:34   1:23:00  강원도  강릉시  대전동     임야  ...   \n",
       "3   0.0   0.0    0.0    4864.0  0:22:40   2:05:00  강원도  홍천군  내촌면     임야  ...   \n",
       "4   0.0   0.0    0.0      50.0  0:20:19   3:50:09  강원도  원주시  귀래면     임야  ...   \n",
       "\n",
       "       발화원인      발화열원명    발화열원소분류명 최초착화물소분류명 전체인력수합계    날씨   온도     습도  풍향  \\\n",
       "0        기타  담뱃불, 라이터불        방화의심    풀, 나뭇잎    37.0    맑음 -1.0   30.0  북동   \n",
       "1        기타     불꽃, 불티  불씨,불꽃,화원방치    풀, 나뭇잎  1872.0    맑음  1.0   10.0  남서   \n",
       "2        기타         기타        방화의심        잔디   184.0    맑음  1.2  550.0  남동   \n",
       "3  기타 입산자실화         기타          기타    풀, 나뭇잎   171.0  구름많음 -2.0   29.0  남서   \n",
       "4       모닥불     불꽃, 불티  불씨,불꽃,화원방치    풀, 나뭇잎    94.0  구름많음 -6.0   44.0  남서   \n",
       "\n",
       "        풍속  \n",
       "0  5~8 m/s  \n",
       "1  5~8 m/s  \n",
       "2  0~4 m/s  \n",
       "3  0~4 m/s  \n",
       "4  0~4 m/s  \n",
       "\n",
       "[5 rows x 24 columns]"
      ]
     },
     "execution_count": 210,
     "metadata": {},
     "output_type": "execute_result"
    }
   ],
   "source": [
    "df.head(5)"
   ]
  },
  {
   "cell_type": "code",
   "execution_count": 129,
   "id": "b81d2e10",
   "metadata": {},
   "outputs": [
    {
     "data": {
      "text/plain": [
       "Index(['순번', '조사서번호', '사망자수', '부상자수', '인명피해수', '재산피해금액', '소방서명', '관할서명',\n",
       "       '서센터명', '소방지역대명', '화재발생일자', '화재발생시간', '접수일자', '접수시간', '위치정보X', '위치정보Y',\n",
       "       '출동일자', '출동시각', '현장도착일자', '현장도착시각', '초진일자', '초진시각', '완진일자', '완진시간',\n",
       "       '귀소일자', '귀소시각', '출동소요시간', '화재진압시간', '현장소방서거리', '현장안전센터거리', '현장소방지역대거리',\n",
       "       '시도명', '시군구명', '읍면동명', '읍면동구분명', '번지', '도로명', '장소대분류명', '장소중분류명',\n",
       "       '장소소분류명', '화재유형명', '발화지점', '발화원인', '발화열원명', '발화요인소명', '발화요인대분류명',\n",
       "       '발화열원소분류명', '최초착화물대분류명', '최초착화물소분류명', '연소확대물대분류명', '연소확대물소분류명',\n",
       "       '연소확대사유', '전체인력수합계', '동원소방력수', '동원의용소방력수', '동원경찰수', '동원일반직수', '동원군인수',\n",
       "       '동원전기가스유관기관수', '기타동원명수', '동원장비수', '날씨', '온도', '습도', '풍향', '풍속', '특보'],\n",
       "      dtype='object')"
      ]
     },
     "execution_count": 129,
     "metadata": {},
     "output_type": "execute_result"
    }
   ],
   "source": [
    "df.columns"
   ]
  },
  {
   "cell_type": "code",
   "execution_count": 130,
   "id": "482ddf8b",
   "metadata": {},
   "outputs": [],
   "source": [
    "df.drop(['순번','조사서번호', '소방서명', '관할서명', '읍면동구분명', '발화요인대분류명', '최초착화물대분류명',  '연소확대물대분류명', '연소확대물소분류명',\n",
    "       '연소확대사유',\n",
    "       '서센터명', '소방지역대명', '화재발생일자', '화재발생시간', '접수일자', '접수시간', '위치정보X', '위치정보Y', '발화요인소명',\n",
    "       '출동일자', '출동시각', '현장도착일자', '현장도착시각', '초진일자', '초진시각', '완진일자', '완진시간',\n",
    "       '귀소일자', '귀소시각', '현장소방서거리', '현장안전센터거리', '현장소방지역대거리', '도로명',  '동원소방력수', '동원의용소방력수', '동원경찰수', '동원일반직수', '동원군인수',\n",
    "       '동원전기가스유관기관수', '기타동원명수', '동원장비수', '특보','번지'], axis=1, inplace=True)"
   ]
  },
  {
   "cell_type": "code",
   "execution_count": 131,
   "id": "bfc91bec",
   "metadata": {
    "scrolled": true
   },
   "outputs": [
    {
     "data": {
      "text/html": [
       "<div>\n",
       "<style scoped>\n",
       "    .dataframe tbody tr th:only-of-type {\n",
       "        vertical-align: middle;\n",
       "    }\n",
       "\n",
       "    .dataframe tbody tr th {\n",
       "        vertical-align: top;\n",
       "    }\n",
       "\n",
       "    .dataframe thead th {\n",
       "        text-align: right;\n",
       "    }\n",
       "</style>\n",
       "<table border=\"1\" class=\"dataframe\">\n",
       "  <thead>\n",
       "    <tr style=\"text-align: right;\">\n",
       "      <th></th>\n",
       "      <th>사망자수</th>\n",
       "      <th>부상자수</th>\n",
       "      <th>인명피해수</th>\n",
       "      <th>재산피해금액</th>\n",
       "      <th>출동소요시간</th>\n",
       "      <th>화재진압시간</th>\n",
       "      <th>시도명</th>\n",
       "      <th>시군구명</th>\n",
       "      <th>읍면동명</th>\n",
       "      <th>장소대분류명</th>\n",
       "      <th>...</th>\n",
       "      <th>발화원인</th>\n",
       "      <th>발화열원명</th>\n",
       "      <th>발화열원소분류명</th>\n",
       "      <th>최초착화물소분류명</th>\n",
       "      <th>전체인력수합계</th>\n",
       "      <th>날씨</th>\n",
       "      <th>온도</th>\n",
       "      <th>습도</th>\n",
       "      <th>풍향</th>\n",
       "      <th>풍속</th>\n",
       "    </tr>\n",
       "  </thead>\n",
       "  <tbody>\n",
       "    <tr>\n",
       "      <th>0</th>\n",
       "      <td>0.0</td>\n",
       "      <td>0.0</td>\n",
       "      <td>0.0</td>\n",
       "      <td>0.0</td>\n",
       "      <td>0:17:00</td>\n",
       "      <td>0:18:00</td>\n",
       "      <td>강원도</td>\n",
       "      <td>강릉시</td>\n",
       "      <td>죽헌동</td>\n",
       "      <td>임야</td>\n",
       "      <td>...</td>\n",
       "      <td>기타</td>\n",
       "      <td>담뱃불, 라이터불</td>\n",
       "      <td>방화의심</td>\n",
       "      <td>풀, 나뭇잎</td>\n",
       "      <td>37.0</td>\n",
       "      <td>맑음</td>\n",
       "      <td>-1.0</td>\n",
       "      <td>30.0</td>\n",
       "      <td>북동</td>\n",
       "      <td>5~8 m/s</td>\n",
       "    </tr>\n",
       "    <tr>\n",
       "      <th>1</th>\n",
       "      <td>0.0</td>\n",
       "      <td>0.0</td>\n",
       "      <td>0.0</td>\n",
       "      <td>184330.0</td>\n",
       "      <td>0:16:15</td>\n",
       "      <td>15:59:52</td>\n",
       "      <td>강원도</td>\n",
       "      <td>양양군</td>\n",
       "      <td>현남면</td>\n",
       "      <td>임야</td>\n",
       "      <td>...</td>\n",
       "      <td>기타</td>\n",
       "      <td>불꽃, 불티</td>\n",
       "      <td>불씨,불꽃,화원방치</td>\n",
       "      <td>풀, 나뭇잎</td>\n",
       "      <td>1872.0</td>\n",
       "      <td>맑음</td>\n",
       "      <td>1.0</td>\n",
       "      <td>10.0</td>\n",
       "      <td>남서</td>\n",
       "      <td>5~8 m/s</td>\n",
       "    </tr>\n",
       "    <tr>\n",
       "      <th>2</th>\n",
       "      <td>0.0</td>\n",
       "      <td>0.0</td>\n",
       "      <td>0.0</td>\n",
       "      <td>0.0</td>\n",
       "      <td>0:06:34</td>\n",
       "      <td>1:23:00</td>\n",
       "      <td>강원도</td>\n",
       "      <td>강릉시</td>\n",
       "      <td>대전동</td>\n",
       "      <td>임야</td>\n",
       "      <td>...</td>\n",
       "      <td>기타</td>\n",
       "      <td>기타</td>\n",
       "      <td>방화의심</td>\n",
       "      <td>잔디</td>\n",
       "      <td>184.0</td>\n",
       "      <td>맑음</td>\n",
       "      <td>1.2</td>\n",
       "      <td>550.0</td>\n",
       "      <td>남동</td>\n",
       "      <td>0~4 m/s</td>\n",
       "    </tr>\n",
       "  </tbody>\n",
       "</table>\n",
       "<p>3 rows × 24 columns</p>\n",
       "</div>"
      ],
      "text/plain": [
       "   사망자수  부상자수  인명피해수    재산피해금액   출동소요시간    화재진압시간  시도명 시군구명 읍면동명 장소대분류명  ...  \\\n",
       "0   0.0   0.0    0.0       0.0  0:17:00   0:18:00  강원도  강릉시  죽헌동     임야  ...   \n",
       "1   0.0   0.0    0.0  184330.0  0:16:15  15:59:52  강원도  양양군  현남면     임야  ...   \n",
       "2   0.0   0.0    0.0       0.0  0:06:34   1:23:00  강원도  강릉시  대전동     임야  ...   \n",
       "\n",
       "  발화원인      발화열원명    발화열원소분류명 최초착화물소분류명 전체인력수합계  날씨   온도     습도  풍향       풍속  \n",
       "0   기타  담뱃불, 라이터불        방화의심    풀, 나뭇잎    37.0  맑음 -1.0   30.0  북동  5~8 m/s  \n",
       "1   기타     불꽃, 불티  불씨,불꽃,화원방치    풀, 나뭇잎  1872.0  맑음  1.0   10.0  남서  5~8 m/s  \n",
       "2   기타         기타        방화의심        잔디   184.0  맑음  1.2  550.0  남동  0~4 m/s  \n",
       "\n",
       "[3 rows x 24 columns]"
      ]
     },
     "execution_count": 131,
     "metadata": {},
     "output_type": "execute_result"
    }
   ],
   "source": [
    "df.head(3)"
   ]
  },
  {
   "cell_type": "code",
   "execution_count": 132,
   "id": "d3b03987",
   "metadata": {},
   "outputs": [
    {
     "data": {
      "text/plain": [
       "Index(['사망자수', '부상자수', '인명피해수', '재산피해금액', '출동소요시간', '화재진압시간', '시도명', '시군구명',\n",
       "       '읍면동명', '장소대분류명', '장소중분류명', '장소소분류명', '화재유형명', '발화지점', '발화원인', '발화열원명',\n",
       "       '발화열원소분류명', '최초착화물소분류명', '전체인력수합계', '날씨', '온도', '습도', '풍향', '풍속'],\n",
       "      dtype='object')"
      ]
     },
     "execution_count": 132,
     "metadata": {},
     "output_type": "execute_result"
    }
   ],
   "source": [
    "df.columns"
   ]
  },
  {
   "cell_type": "raw",
   "id": "9b88c6bb",
   "metadata": {},
   "source": [
    "df.columns = ['death','injury','human_damage','property_damage', 'response time',  'fire suppression_time', 'sido','sigungu', 'eupmyeondong','bunji', 'place_l_class','place_m_class', 'place_s_class','fire_type','fire_loc','fire_cause','fire','ignition_factor_s_class', ''"
   ]
  },
  {
   "cell_type": "code",
   "execution_count": 135,
   "id": "33a0ac99",
   "metadata": {
    "scrolled": true
   },
   "outputs": [
    {
     "name": "stdout",
     "output_type": "stream",
     "text": [
      "<class 'pandas.core.frame.DataFrame'>\n",
      "RangeIndex: 1008 entries, 0 to 1007\n",
      "Data columns (total 24 columns):\n",
      " #   Column     Non-Null Count  Dtype  \n",
      "---  ------     --------------  -----  \n",
      " 0   사망자수       1007 non-null   float64\n",
      " 1   부상자수       1007 non-null   float64\n",
      " 2   인명피해수      1007 non-null   float64\n",
      " 3   재산피해금액     1007 non-null   float64\n",
      " 4   출동소요시간     1007 non-null   object \n",
      " 5   화재진압시간     1007 non-null   object \n",
      " 6   시도명        1007 non-null   object \n",
      " 7   시군구명       1007 non-null   object \n",
      " 8   읍면동명       1007 non-null   object \n",
      " 9   장소대분류명     1007 non-null   object \n",
      " 10  장소중분류명     1007 non-null   object \n",
      " 11  장소소분류명     1007 non-null   object \n",
      " 12  화재유형명      1007 non-null   object \n",
      " 13  발화지점       1007 non-null   object \n",
      " 14  발화원인       1007 non-null   object \n",
      " 15  발화열원명      1007 non-null   object \n",
      " 16  발화열원소분류명   1007 non-null   object \n",
      " 17  최초착화물소분류명  1007 non-null   object \n",
      " 18  전체인력수합계    1007 non-null   float64\n",
      " 19  날씨         1007 non-null   object \n",
      " 20  온도         1007 non-null   float64\n",
      " 21  습도         1007 non-null   float64\n",
      " 22  풍향         943 non-null    object \n",
      " 23  풍속         912 non-null    object \n",
      "dtypes: float64(7), object(17)\n",
      "memory usage: 189.1+ KB\n"
     ]
    }
   ],
   "source": [
    "df.info()"
   ]
  },
  {
   "cell_type": "code",
   "execution_count": 136,
   "id": "aa412143",
   "metadata": {
    "scrolled": true
   },
   "outputs": [
    {
     "data": {
      "text/plain": [
       "사망자수          1\n",
       "부상자수          1\n",
       "인명피해수         1\n",
       "재산피해금액        1\n",
       "출동소요시간        1\n",
       "화재진압시간        1\n",
       "시도명           1\n",
       "시군구명          1\n",
       "읍면동명          1\n",
       "장소대분류명        1\n",
       "장소중분류명        1\n",
       "장소소분류명        1\n",
       "화재유형명         1\n",
       "발화지점          1\n",
       "발화원인          1\n",
       "발화열원명         1\n",
       "발화열원소분류명      1\n",
       "최초착화물소분류명     1\n",
       "전체인력수합계       1\n",
       "날씨            1\n",
       "온도            1\n",
       "습도            1\n",
       "풍향           65\n",
       "풍속           96\n",
       "dtype: int64"
      ]
     },
     "execution_count": 136,
     "metadata": {},
     "output_type": "execute_result"
    }
   ],
   "source": [
    "df.isnull().sum()"
   ]
  },
  {
   "cell_type": "code",
   "execution_count": 138,
   "id": "ad6da804",
   "metadata": {},
   "outputs": [],
   "source": [
    "df_1 = df.dropna()"
   ]
  },
  {
   "cell_type": "code",
   "execution_count": 139,
   "id": "a7ca0487",
   "metadata": {},
   "outputs": [
    {
     "name": "stdout",
     "output_type": "stream",
     "text": [
      "<class 'pandas.core.frame.DataFrame'>\n",
      "Int64Index: 906 entries, 0 to 1006\n",
      "Data columns (total 24 columns):\n",
      " #   Column     Non-Null Count  Dtype  \n",
      "---  ------     --------------  -----  \n",
      " 0   사망자수       906 non-null    float64\n",
      " 1   부상자수       906 non-null    float64\n",
      " 2   인명피해수      906 non-null    float64\n",
      " 3   재산피해금액     906 non-null    float64\n",
      " 4   출동소요시간     906 non-null    object \n",
      " 5   화재진압시간     906 non-null    object \n",
      " 6   시도명        906 non-null    object \n",
      " 7   시군구명       906 non-null    object \n",
      " 8   읍면동명       906 non-null    object \n",
      " 9   장소대분류명     906 non-null    object \n",
      " 10  장소중분류명     906 non-null    object \n",
      " 11  장소소분류명     906 non-null    object \n",
      " 12  화재유형명      906 non-null    object \n",
      " 13  발화지점       906 non-null    object \n",
      " 14  발화원인       906 non-null    object \n",
      " 15  발화열원명      906 non-null    object \n",
      " 16  발화열원소분류명   906 non-null    object \n",
      " 17  최초착화물소분류명  906 non-null    object \n",
      " 18  전체인력수합계    906 non-null    float64\n",
      " 19  날씨         906 non-null    object \n",
      " 20  온도         906 non-null    float64\n",
      " 21  습도         906 non-null    float64\n",
      " 22  풍향         906 non-null    object \n",
      " 23  풍속         906 non-null    object \n",
      "dtypes: float64(7), object(17)\n",
      "memory usage: 177.0+ KB\n"
     ]
    }
   ],
   "source": [
    "df_1.info()"
   ]
  },
  {
   "cell_type": "code",
   "execution_count": 140,
   "id": "ed06f73f",
   "metadata": {
    "scrolled": true
   },
   "outputs": [],
   "source": [
    "a = pd.DataFrame(df_1['시군구명'].value_counts())\n",
    "a.to_excel('강원도 시군구별 합계.xlsx')"
   ]
  },
  {
   "cell_type": "code",
   "execution_count": 146,
   "id": "fbe2ff37",
   "metadata": {},
   "outputs": [],
   "source": [
    "b = pd.DataFrame(df_1.groupby('발화열원소분류명')['재산피해금액'].sum())\n",
    "b.to_excel('강원도 발화열원소별 재산피해 합계.xlsx')"
   ]
  },
  {
   "cell_type": "code",
   "execution_count": 148,
   "id": "09630786",
   "metadata": {},
   "outputs": [
    {
     "data": {
      "text/html": [
       "<div>\n",
       "<style scoped>\n",
       "    .dataframe tbody tr th:only-of-type {\n",
       "        vertical-align: middle;\n",
       "    }\n",
       "\n",
       "    .dataframe tbody tr th {\n",
       "        vertical-align: top;\n",
       "    }\n",
       "\n",
       "    .dataframe thead th {\n",
       "        text-align: right;\n",
       "    }\n",
       "</style>\n",
       "<table border=\"1\" class=\"dataframe\">\n",
       "  <thead>\n",
       "    <tr style=\"text-align: right;\">\n",
       "      <th></th>\n",
       "      <th>사망자수</th>\n",
       "      <th>부상자수</th>\n",
       "      <th>인명피해수</th>\n",
       "      <th>재산피해금액</th>\n",
       "      <th>출동소요시간</th>\n",
       "      <th>화재진압시간</th>\n",
       "      <th>시도명</th>\n",
       "      <th>시군구명</th>\n",
       "      <th>읍면동명</th>\n",
       "      <th>장소대분류명</th>\n",
       "      <th>...</th>\n",
       "      <th>발화원인</th>\n",
       "      <th>발화열원명</th>\n",
       "      <th>발화열원소분류명</th>\n",
       "      <th>최초착화물소분류명</th>\n",
       "      <th>전체인력수합계</th>\n",
       "      <th>날씨</th>\n",
       "      <th>온도</th>\n",
       "      <th>습도</th>\n",
       "      <th>풍향</th>\n",
       "      <th>풍속</th>\n",
       "    </tr>\n",
       "  </thead>\n",
       "  <tbody>\n",
       "    <tr>\n",
       "      <th>0</th>\n",
       "      <td>0.0</td>\n",
       "      <td>0.0</td>\n",
       "      <td>0.0</td>\n",
       "      <td>0.0</td>\n",
       "      <td>0:17:00</td>\n",
       "      <td>0:18:00</td>\n",
       "      <td>강원도</td>\n",
       "      <td>강릉시</td>\n",
       "      <td>죽헌동</td>\n",
       "      <td>임야</td>\n",
       "      <td>...</td>\n",
       "      <td>기타</td>\n",
       "      <td>담뱃불, 라이터불</td>\n",
       "      <td>방화의심</td>\n",
       "      <td>풀, 나뭇잎</td>\n",
       "      <td>37.0</td>\n",
       "      <td>맑음</td>\n",
       "      <td>-1.0</td>\n",
       "      <td>30.0</td>\n",
       "      <td>북동</td>\n",
       "      <td>5~8 m/s</td>\n",
       "    </tr>\n",
       "    <tr>\n",
       "      <th>1</th>\n",
       "      <td>0.0</td>\n",
       "      <td>0.0</td>\n",
       "      <td>0.0</td>\n",
       "      <td>184330.0</td>\n",
       "      <td>0:16:15</td>\n",
       "      <td>15:59:52</td>\n",
       "      <td>강원도</td>\n",
       "      <td>양양군</td>\n",
       "      <td>현남면</td>\n",
       "      <td>임야</td>\n",
       "      <td>...</td>\n",
       "      <td>기타</td>\n",
       "      <td>불꽃, 불티</td>\n",
       "      <td>불씨,불꽃,화원방치</td>\n",
       "      <td>풀, 나뭇잎</td>\n",
       "      <td>1872.0</td>\n",
       "      <td>맑음</td>\n",
       "      <td>1.0</td>\n",
       "      <td>10.0</td>\n",
       "      <td>남서</td>\n",
       "      <td>5~8 m/s</td>\n",
       "    </tr>\n",
       "    <tr>\n",
       "      <th>2</th>\n",
       "      <td>0.0</td>\n",
       "      <td>0.0</td>\n",
       "      <td>0.0</td>\n",
       "      <td>0.0</td>\n",
       "      <td>0:06:34</td>\n",
       "      <td>1:23:00</td>\n",
       "      <td>강원도</td>\n",
       "      <td>강릉시</td>\n",
       "      <td>대전동</td>\n",
       "      <td>임야</td>\n",
       "      <td>...</td>\n",
       "      <td>기타</td>\n",
       "      <td>기타</td>\n",
       "      <td>방화의심</td>\n",
       "      <td>잔디</td>\n",
       "      <td>184.0</td>\n",
       "      <td>맑음</td>\n",
       "      <td>1.2</td>\n",
       "      <td>550.0</td>\n",
       "      <td>남동</td>\n",
       "      <td>0~4 m/s</td>\n",
       "    </tr>\n",
       "  </tbody>\n",
       "</table>\n",
       "<p>3 rows × 24 columns</p>\n",
       "</div>"
      ],
      "text/plain": [
       "   사망자수  부상자수  인명피해수    재산피해금액   출동소요시간    화재진압시간  시도명 시군구명 읍면동명 장소대분류명  ...  \\\n",
       "0   0.0   0.0    0.0       0.0  0:17:00   0:18:00  강원도  강릉시  죽헌동     임야  ...   \n",
       "1   0.0   0.0    0.0  184330.0  0:16:15  15:59:52  강원도  양양군  현남면     임야  ...   \n",
       "2   0.0   0.0    0.0       0.0  0:06:34   1:23:00  강원도  강릉시  대전동     임야  ...   \n",
       "\n",
       "  발화원인      발화열원명    발화열원소분류명 최초착화물소분류명 전체인력수합계  날씨   온도     습도  풍향       풍속  \n",
       "0   기타  담뱃불, 라이터불        방화의심    풀, 나뭇잎    37.0  맑음 -1.0   30.0  북동  5~8 m/s  \n",
       "1   기타     불꽃, 불티  불씨,불꽃,화원방치    풀, 나뭇잎  1872.0  맑음  1.0   10.0  남서  5~8 m/s  \n",
       "2   기타         기타        방화의심        잔디   184.0  맑음  1.2  550.0  남동  0~4 m/s  \n",
       "\n",
       "[3 rows x 24 columns]"
      ]
     },
     "execution_count": 148,
     "metadata": {},
     "output_type": "execute_result"
    }
   ],
   "source": [
    "df_1.head(3)"
   ]
  },
  {
   "cell_type": "code",
   "execution_count": 186,
   "id": "8190040c",
   "metadata": {},
   "outputs": [
    {
     "data": {
      "text/html": [
       "<div>\n",
       "<style scoped>\n",
       "    .dataframe tbody tr th:only-of-type {\n",
       "        vertical-align: middle;\n",
       "    }\n",
       "\n",
       "    .dataframe tbody tr th {\n",
       "        vertical-align: top;\n",
       "    }\n",
       "\n",
       "    .dataframe thead th {\n",
       "        text-align: right;\n",
       "    }\n",
       "</style>\n",
       "<table border=\"1\" class=\"dataframe\">\n",
       "  <thead>\n",
       "    <tr style=\"text-align: right;\">\n",
       "      <th></th>\n",
       "      <th>발화지점</th>\n",
       "    </tr>\n",
       "  </thead>\n",
       "  <tbody>\n",
       "    <tr>\n",
       "      <th>산아래</th>\n",
       "      <td>363</td>\n",
       "    </tr>\n",
       "    <tr>\n",
       "      <th>산중턱</th>\n",
       "      <td>277</td>\n",
       "    </tr>\n",
       "    <tr>\n",
       "      <th>산정상</th>\n",
       "      <td>184</td>\n",
       "    </tr>\n",
       "    <tr>\n",
       "      <th>평지</th>\n",
       "      <td>70</td>\n",
       "    </tr>\n",
       "    <tr>\n",
       "      <th>미상</th>\n",
       "      <td>12</td>\n",
       "    </tr>\n",
       "  </tbody>\n",
       "</table>\n",
       "</div>"
      ],
      "text/plain": [
       "     발화지점\n",
       "산아래   363\n",
       "산중턱   277\n",
       "산정상   184\n",
       "평지     70\n",
       "미상     12"
      ]
     },
     "execution_count": 186,
     "metadata": {},
     "output_type": "execute_result"
    }
   ],
   "source": [
    "e = pd.DataFrame(df_1['발화지점'].value_counts())\n",
    "e"
   ]
  },
  {
   "cell_type": "code",
   "execution_count": 189,
   "id": "2d03bdae",
   "metadata": {},
   "outputs": [
    {
     "data": {
      "text/plain": [
       "<BarContainer object of 5 artists>"
      ]
     },
     "execution_count": 189,
     "metadata": {},
     "output_type": "execute_result"
    },
    {
     "data": {
      "image/png": "[encoded data removed]",
      "text/plain": [
       "<Figure size 864x288 with 1 Axes>"
      ]
     },
     "metadata": {
      "needs_background": "light"
     },
     "output_type": "display_data"
    }
   ],
   "source": [
    "plt.figure(figsize=(12,4))\n",
    "plt.bar(e.index, e.발화지점)"
   ]
  },
  {
   "cell_type": "code",
   "execution_count": 173,
   "id": "c5f93274",
   "metadata": {
    "scrolled": true
   },
   "outputs": [
    {
     "data": {
      "text/html": [
       "<div>\n",
       "<style scoped>\n",
       "    .dataframe tbody tr th:only-of-type {\n",
       "        vertical-align: middle;\n",
       "    }\n",
       "\n",
       "    .dataframe tbody tr th {\n",
       "        vertical-align: top;\n",
       "    }\n",
       "\n",
       "    .dataframe thead th {\n",
       "        text-align: right;\n",
       "    }\n",
       "</style>\n",
       "<table border=\"1\" class=\"dataframe\">\n",
       "  <thead>\n",
       "    <tr style=\"text-align: right;\">\n",
       "      <th></th>\n",
       "      <th>전체인력수합계</th>\n",
       "    </tr>\n",
       "    <tr>\n",
       "      <th>시군구명</th>\n",
       "      <th></th>\n",
       "    </tr>\n",
       "  </thead>\n",
       "  <tbody>\n",
       "    <tr>\n",
       "      <th>강릉시</th>\n",
       "      <td>19947.0</td>\n",
       "    </tr>\n",
       "    <tr>\n",
       "      <th>고성군</th>\n",
       "      <td>29443.0</td>\n",
       "    </tr>\n",
       "    <tr>\n",
       "      <th>동해시</th>\n",
       "      <td>1793.0</td>\n",
       "    </tr>\n",
       "    <tr>\n",
       "      <th>삼척시</th>\n",
       "      <td>11619.0</td>\n",
       "    </tr>\n",
       "    <tr>\n",
       "      <th>속초시</th>\n",
       "      <td>830.0</td>\n",
       "    </tr>\n",
       "    <tr>\n",
       "      <th>양구군</th>\n",
       "      <td>5010.0</td>\n",
       "    </tr>\n",
       "    <tr>\n",
       "      <th>양양군</th>\n",
       "      <td>11378.0</td>\n",
       "    </tr>\n",
       "    <tr>\n",
       "      <th>영월군</th>\n",
       "      <td>5345.0</td>\n",
       "    </tr>\n",
       "    <tr>\n",
       "      <th>원주시</th>\n",
       "      <td>4722.0</td>\n",
       "    </tr>\n",
       "    <tr>\n",
       "      <th>인제군</th>\n",
       "      <td>9520.0</td>\n",
       "    </tr>\n",
       "    <tr>\n",
       "      <th>정선군</th>\n",
       "      <td>4571.0</td>\n",
       "    </tr>\n",
       "    <tr>\n",
       "      <th>철원군</th>\n",
       "      <td>5180.0</td>\n",
       "    </tr>\n",
       "    <tr>\n",
       "      <th>춘천시</th>\n",
       "      <td>9939.0</td>\n",
       "    </tr>\n",
       "    <tr>\n",
       "      <th>태백시</th>\n",
       "      <td>467.0</td>\n",
       "    </tr>\n",
       "    <tr>\n",
       "      <th>평창군</th>\n",
       "      <td>4567.0</td>\n",
       "    </tr>\n",
       "    <tr>\n",
       "      <th>홍천군</th>\n",
       "      <td>11503.0</td>\n",
       "    </tr>\n",
       "    <tr>\n",
       "      <th>화천군</th>\n",
       "      <td>5751.0</td>\n",
       "    </tr>\n",
       "    <tr>\n",
       "      <th>횡성군</th>\n",
       "      <td>5930.0</td>\n",
       "    </tr>\n",
       "  </tbody>\n",
       "</table>\n",
       "</div>"
      ],
      "text/plain": [
       "      전체인력수합계\n",
       "시군구명         \n",
       "강릉시   19947.0\n",
       "고성군   29443.0\n",
       "동해시    1793.0\n",
       "삼척시   11619.0\n",
       "속초시     830.0\n",
       "양구군    5010.0\n",
       "양양군   11378.0\n",
       "영월군    5345.0\n",
       "원주시    4722.0\n",
       "인제군    9520.0\n",
       "정선군    4571.0\n",
       "철원군    5180.0\n",
       "춘천시    9939.0\n",
       "태백시     467.0\n",
       "평창군    4567.0\n",
       "홍천군   11503.0\n",
       "화천군    5751.0\n",
       "횡성군    5930.0"
      ]
     },
     "execution_count": 173,
     "metadata": {},
     "output_type": "execute_result"
    }
   ],
   "source": [
    "c = pd.DataFrame(df_1.groupby('시군구명')['전체인력수합계'].sum())\n",
    "c"
   ]
  },
  {
   "cell_type": "code",
   "execution_count": 174,
   "id": "978c5010",
   "metadata": {},
   "outputs": [
    {
     "data": {
      "text/plain": [
       "<BarContainer object of 18 artists>"
      ]
     },
     "execution_count": 174,
     "metadata": {},
     "output_type": "execute_result"
    },
    {
     "data": {
      "image/png": "[encoded data removed]",
      "text/plain": [
       "<Figure size 1440x432 with 1 Axes>"
      ]
     },
     "metadata": {
      "needs_background": "light"
     },
     "output_type": "display_data"
    }
   ],
   "source": [
    "plt.figure(figsize=(20,6))\n",
    "plt.bar(c.index, c.전체인력수합계)"
   ]
  },
  {
   "cell_type": "code",
   "execution_count": 166,
   "id": "bba9b1b5",
   "metadata": {},
   "outputs": [
    {
     "data": {
      "text/html": [
       "<div>\n",
       "<style scoped>\n",
       "    .dataframe tbody tr th:only-of-type {\n",
       "        vertical-align: middle;\n",
       "    }\n",
       "\n",
       "    .dataframe tbody tr th {\n",
       "        vertical-align: top;\n",
       "    }\n",
       "\n",
       "    .dataframe thead th {\n",
       "        text-align: right;\n",
       "    }\n",
       "</style>\n",
       "<table border=\"1\" class=\"dataframe\">\n",
       "  <thead>\n",
       "    <tr style=\"text-align: right;\">\n",
       "      <th></th>\n",
       "      <th>재산피해금액</th>\n",
       "    </tr>\n",
       "    <tr>\n",
       "      <th>시군구명</th>\n",
       "      <th></th>\n",
       "    </tr>\n",
       "  </thead>\n",
       "  <tbody>\n",
       "    <tr>\n",
       "      <th>강릉시</th>\n",
       "      <td>81129912.0</td>\n",
       "    </tr>\n",
       "    <tr>\n",
       "      <th>고성군</th>\n",
       "      <td>123345017.0</td>\n",
       "    </tr>\n",
       "    <tr>\n",
       "      <th>동해시</th>\n",
       "      <td>4722.0</td>\n",
       "    </tr>\n",
       "    <tr>\n",
       "      <th>삼척시</th>\n",
       "      <td>2534031.0</td>\n",
       "    </tr>\n",
       "    <tr>\n",
       "      <th>속초시</th>\n",
       "      <td>19.0</td>\n",
       "    </tr>\n",
       "    <tr>\n",
       "      <th>양구군</th>\n",
       "      <td>3271.0</td>\n",
       "    </tr>\n",
       "    <tr>\n",
       "      <th>양양군</th>\n",
       "      <td>2579480.0</td>\n",
       "    </tr>\n",
       "    <tr>\n",
       "      <th>영월군</th>\n",
       "      <td>37274.0</td>\n",
       "    </tr>\n",
       "    <tr>\n",
       "      <th>원주시</th>\n",
       "      <td>34017.0</td>\n",
       "    </tr>\n",
       "    <tr>\n",
       "      <th>인제군</th>\n",
       "      <td>134394.0</td>\n",
       "    </tr>\n",
       "    <tr>\n",
       "      <th>정선군</th>\n",
       "      <td>77568.0</td>\n",
       "    </tr>\n",
       "    <tr>\n",
       "      <th>철원군</th>\n",
       "      <td>42831.0</td>\n",
       "    </tr>\n",
       "    <tr>\n",
       "      <th>춘천시</th>\n",
       "      <td>267335.0</td>\n",
       "    </tr>\n",
       "    <tr>\n",
       "      <th>태백시</th>\n",
       "      <td>4548.0</td>\n",
       "    </tr>\n",
       "    <tr>\n",
       "      <th>평창군</th>\n",
       "      <td>131368.0</td>\n",
       "    </tr>\n",
       "    <tr>\n",
       "      <th>홍천군</th>\n",
       "      <td>52913.0</td>\n",
       "    </tr>\n",
       "    <tr>\n",
       "      <th>화천군</th>\n",
       "      <td>15344.0</td>\n",
       "    </tr>\n",
       "    <tr>\n",
       "      <th>횡성군</th>\n",
       "      <td>16670.0</td>\n",
       "    </tr>\n",
       "  </tbody>\n",
       "</table>\n",
       "</div>"
      ],
      "text/plain": [
       "           재산피해금액\n",
       "시군구명             \n",
       "강릉시    81129912.0\n",
       "고성군   123345017.0\n",
       "동해시        4722.0\n",
       "삼척시     2534031.0\n",
       "속초시          19.0\n",
       "양구군        3271.0\n",
       "양양군     2579480.0\n",
       "영월군       37274.0\n",
       "원주시       34017.0\n",
       "인제군      134394.0\n",
       "정선군       77568.0\n",
       "철원군       42831.0\n",
       "춘천시      267335.0\n",
       "태백시        4548.0\n",
       "평창군      131368.0\n",
       "홍천군       52913.0\n",
       "화천군       15344.0\n",
       "횡성군       16670.0"
      ]
     },
     "execution_count": 166,
     "metadata": {},
     "output_type": "execute_result"
    }
   ],
   "source": [
    "d = pd.DataFrame(df_1.groupby('시군구명')['재산피해금액'].sum())\n",
    "d"
   ]
  },
  {
   "cell_type": "code",
   "execution_count": 169,
   "id": "f611905c",
   "metadata": {},
   "outputs": [
    {
     "data": {
      "text/plain": [
       "<BarContainer object of 18 artists>"
      ]
     },
     "execution_count": 169,
     "metadata": {},
     "output_type": "execute_result"
    },
    {
     "data": {
      "image/png": "[encoded data removed]",
      "text/plain": [
       "<Figure size 1440x432 with 1 Axes>"
      ]
     },
     "metadata": {
      "needs_background": "light"
     },
     "output_type": "display_data"
    }
   ],
   "source": [
    "plt.figure(figsize=(20,6))\n",
    "plt.bar(d.index, d.재산피해금액)"
   ]
  },
  {
   "cell_type": "code",
   "execution_count": 194,
   "id": "efd7d22a",
   "metadata": {},
   "outputs": [
    {
     "data": {
      "text/html": [
       "<div>\n",
       "<style scoped>\n",
       "    .dataframe tbody tr th:only-of-type {\n",
       "        vertical-align: middle;\n",
       "    }\n",
       "\n",
       "    .dataframe tbody tr th {\n",
       "        vertical-align: top;\n",
       "    }\n",
       "\n",
       "    .dataframe thead th {\n",
       "        text-align: right;\n",
       "    }\n",
       "</style>\n",
       "<table border=\"1\" class=\"dataframe\">\n",
       "  <thead>\n",
       "    <tr style=\"text-align: right;\">\n",
       "      <th></th>\n",
       "      <th>발화열원소분류명</th>\n",
       "    </tr>\n",
       "  </thead>\n",
       "  <tbody>\n",
       "    <tr>\n",
       "      <th>담배꽁초</th>\n",
       "      <td>283</td>\n",
       "    </tr>\n",
       "    <tr>\n",
       "      <th>미상</th>\n",
       "      <td>148</td>\n",
       "    </tr>\n",
       "    <tr>\n",
       "      <th>쓰레기 소각</th>\n",
       "      <td>115</td>\n",
       "    </tr>\n",
       "    <tr>\n",
       "      <th>불씨,불꽃,화원방치</th>\n",
       "      <td>97</td>\n",
       "    </tr>\n",
       "    <tr>\n",
       "      <th>기타(부주의)</th>\n",
       "      <td>76</td>\n",
       "    </tr>\n",
       "    <tr>\n",
       "      <th>기타</th>\n",
       "      <td>43</td>\n",
       "    </tr>\n",
       "    <tr>\n",
       "      <th>논,임야태우기</th>\n",
       "      <td>37</td>\n",
       "    </tr>\n",
       "    <tr>\n",
       "      <th>용접, 절단, 연마</th>\n",
       "      <td>16</td>\n",
       "    </tr>\n",
       "    <tr>\n",
       "      <th>불장난</th>\n",
       "      <td>11</td>\n",
       "    </tr>\n",
       "    <tr>\n",
       "      <th>방화의심</th>\n",
       "      <td>10</td>\n",
       "    </tr>\n",
       "    <tr>\n",
       "      <th>자연적 재해</th>\n",
       "      <td>9</td>\n",
       "    </tr>\n",
       "    <tr>\n",
       "      <th>화학적 폭발</th>\n",
       "      <td>9</td>\n",
       "    </tr>\n",
       "    <tr>\n",
       "      <th>절연열화에 의한 단락</th>\n",
       "      <td>7</td>\n",
       "    </tr>\n",
       "    <tr>\n",
       "      <th>자연발화</th>\n",
       "      <td>7</td>\n",
       "    </tr>\n",
       "    <tr>\n",
       "      <th>기타(자연적인요인)</th>\n",
       "      <td>6</td>\n",
       "    </tr>\n",
       "  </tbody>\n",
       "</table>\n",
       "</div>"
      ],
      "text/plain": [
       "             발화열원소분류명\n",
       "담배꽁초              283\n",
       "미상                148\n",
       "쓰레기 소각            115\n",
       "불씨,불꽃,화원방치         97\n",
       "기타(부주의)            76\n",
       "기타                 43\n",
       "논,임야태우기            37\n",
       "용접, 절단, 연마         16\n",
       "불장난                11\n",
       "방화의심               10\n",
       "자연적 재해              9\n",
       "화학적 폭발              9\n",
       "절연열화에 의한 단락         7\n",
       "자연발화                7\n",
       "기타(자연적인요인)          6"
      ]
     },
     "execution_count": 194,
     "metadata": {},
     "output_type": "execute_result"
    }
   ],
   "source": [
    "f = pd.DataFrame(df_1['발화열원소분류명'].value_counts())\n",
    "f.head(15)"
   ]
  },
  {
   "cell_type": "code",
   "execution_count": 197,
   "id": "17b382f0",
   "metadata": {},
   "outputs": [
    {
     "data": {
      "text/plain": [
       "<BarContainer object of 15 artists>"
      ]
     },
     "execution_count": 197,
     "metadata": {},
     "output_type": "execute_result"
    },
    {
     "data": {
      "image/png": "[encoded data removed]",
      "text/plain": [
       "<Figure size 1440x432 with 1 Axes>"
      ]
     },
     "metadata": {
      "needs_background": "light"
     },
     "output_type": "display_data"
    }
   ],
   "source": [
    "plt.figure(figsize=(20,6))\n",
    "plt.bar(f.head(15).index, f.head(15).발화열원소분류명)"
   ]
  },
  {
   "cell_type": "code",
   "execution_count": 200,
   "id": "c3f22194",
   "metadata": {},
   "outputs": [
    {
     "data": {
      "text/plain": [
       "([<matplotlib.patches.Wedge at 0x2af04cdf6a0>,\n",
       "  <matplotlib.patches.Wedge at 0x2af04cdfdc0>,\n",
       "  <matplotlib.patches.Wedge at 0x2af04cf0520>,\n",
       "  <matplotlib.patches.Wedge at 0x2af04cf0c40>,\n",
       "  <matplotlib.patches.Wedge at 0x2af04cfd3a0>,\n",
       "  <matplotlib.patches.Wedge at 0x2af04cfdac0>,\n",
       "  <matplotlib.patches.Wedge at 0x2af04d0b220>,\n",
       "  <matplotlib.patches.Wedge at 0x2af04d0b940>,\n",
       "  <matplotlib.patches.Wedge at 0x2af04d180a0>,\n",
       "  <matplotlib.patches.Wedge at 0x2af04d18760>],\n",
       " [Text(0.5344150199063832, 0.961457532342672, '담배꽁초'),\n",
       "  Text(-0.9864076066027488, 0.48682649233195674, '미상'),\n",
       "  Text(-0.9491645605809151, -0.5559556069842614, '쓰레기 소각'),\n",
       "  Text(-0.26602498090863835, -1.0673475111380355, '불씨,불꽃,화원방치'),\n",
       "  Text(0.4342815332049856, -1.0106431367783226, '기타(부주의)'),\n",
       "  Text(0.8286116890652878, -0.7234657343263543, '기타'),\n",
       "  Text(1.0056830763979627, -0.44564733797783374, '논,임야태우기'),\n",
       "  Text(1.0739752922561054, -0.23785935260866511, '용접, 절단, 연마'),\n",
       "  Text(1.0925444104676205, -0.12785425748077223, '불장난'),\n",
       "  Text(1.099223397973408, -0.04132700506684227, '방화의심')],\n",
       " [Text(0.2914991017671181, 0.5244313812778211, '33.9%'),\n",
       "  Text(-0.5380405126924084, 0.26554172309015817, '17.7%'),\n",
       "  Text(-0.5177261239532264, -0.30324851290050614, '13.8%'),\n",
       "  Text(-0.14510453504107543, -0.5821895515298374, '11.6%'),\n",
       "  Text(0.23688083629362847, -0.5512598927881759, '9.1%'),\n",
       "  Text(0.4519700122174296, -0.3946176732689205, '5.1%'),\n",
       "  Text(0.5485544053079796, -0.24308036616972747, '4.4%'),\n",
       "  Text(0.5858047048669665, -0.12974146505927187, '1.9%'),\n",
       "  Text(0.5959333148005203, -0.06973868589860303, '1.3%'),\n",
       "  Text(0.5995763988945861, -0.022542002763732142, '1.2%')])"
      ]
     },
     "execution_count": 200,
     "metadata": {},
     "output_type": "execute_result"
    },
    {
     "data": {
      "image/png": "[encoded data removed]",
      "text/plain": [
       "<Figure size 1440x432 with 1 Axes>"
      ]
     },
     "metadata": {},
     "output_type": "display_data"
    }
   ],
   "source": [
    "plt.figure(figsize=(20,6))\n",
    "plt.pie(f.head(10).발화열원소분류명, labels=f.head(10).index, autopct='%.1f%%')"
   ]
  },
  {
   "cell_type": "code",
   "execution_count": 203,
   "id": "f803f646",
   "metadata": {},
   "outputs": [
    {
     "data": {
      "text/html": [
       "<div>\n",
       "<style scoped>\n",
       "    .dataframe tbody tr th:only-of-type {\n",
       "        vertical-align: middle;\n",
       "    }\n",
       "\n",
       "    .dataframe tbody tr th {\n",
       "        vertical-align: top;\n",
       "    }\n",
       "\n",
       "    .dataframe thead th {\n",
       "        text-align: right;\n",
       "    }\n",
       "</style>\n",
       "<table border=\"1\" class=\"dataframe\">\n",
       "  <thead>\n",
       "    <tr style=\"text-align: right;\">\n",
       "      <th></th>\n",
       "      <th>사망자수</th>\n",
       "      <th>부상자수</th>\n",
       "      <th>인명피해수</th>\n",
       "      <th>재산피해금액</th>\n",
       "      <th>전체인력수합계</th>\n",
       "      <th>온도</th>\n",
       "      <th>습도</th>\n",
       "    </tr>\n",
       "  </thead>\n",
       "  <tbody>\n",
       "    <tr>\n",
       "      <th>사망자수</th>\n",
       "      <td>1.000000</td>\n",
       "      <td>0.082787</td>\n",
       "      <td>0.223046</td>\n",
       "      <td>0.762725</td>\n",
       "      <td>0.740698</td>\n",
       "      <td>0.014389</td>\n",
       "      <td>-0.026514</td>\n",
       "    </tr>\n",
       "    <tr>\n",
       "      <th>부상자수</th>\n",
       "      <td>0.082787</td>\n",
       "      <td>1.000000</td>\n",
       "      <td>0.989927</td>\n",
       "      <td>0.071223</td>\n",
       "      <td>0.063910</td>\n",
       "      <td>-0.083721</td>\n",
       "      <td>-0.008160</td>\n",
       "    </tr>\n",
       "    <tr>\n",
       "      <th>인명피해수</th>\n",
       "      <td>0.223046</td>\n",
       "      <td>0.989927</td>\n",
       "      <td>1.000000</td>\n",
       "      <td>0.178026</td>\n",
       "      <td>0.167744</td>\n",
       "      <td>-0.079848</td>\n",
       "      <td>-0.011749</td>\n",
       "    </tr>\n",
       "    <tr>\n",
       "      <th>재산피해금액</th>\n",
       "      <td>0.762725</td>\n",
       "      <td>0.071223</td>\n",
       "      <td>0.178026</td>\n",
       "      <td>1.000000</td>\n",
       "      <td>0.867862</td>\n",
       "      <td>0.005275</td>\n",
       "      <td>-0.032819</td>\n",
       "    </tr>\n",
       "    <tr>\n",
       "      <th>전체인력수합계</th>\n",
       "      <td>0.740698</td>\n",
       "      <td>0.063910</td>\n",
       "      <td>0.167744</td>\n",
       "      <td>0.867862</td>\n",
       "      <td>1.000000</td>\n",
       "      <td>-0.018038</td>\n",
       "      <td>-0.053468</td>\n",
       "    </tr>\n",
       "    <tr>\n",
       "      <th>온도</th>\n",
       "      <td>0.014389</td>\n",
       "      <td>-0.083721</td>\n",
       "      <td>-0.079848</td>\n",
       "      <td>0.005275</td>\n",
       "      <td>-0.018038</td>\n",
       "      <td>1.000000</td>\n",
       "      <td>-0.114595</td>\n",
       "    </tr>\n",
       "    <tr>\n",
       "      <th>습도</th>\n",
       "      <td>-0.026514</td>\n",
       "      <td>-0.008160</td>\n",
       "      <td>-0.011749</td>\n",
       "      <td>-0.032819</td>\n",
       "      <td>-0.053468</td>\n",
       "      <td>-0.114595</td>\n",
       "      <td>1.000000</td>\n",
       "    </tr>\n",
       "  </tbody>\n",
       "</table>\n",
       "</div>"
      ],
      "text/plain": [
       "             사망자수      부상자수     인명피해수    재산피해금액   전체인력수합계        온도        습도\n",
       "사망자수     1.000000  0.082787  0.223046  0.762725  0.740698  0.014389 -0.026514\n",
       "부상자수     0.082787  1.000000  0.989927  0.071223  0.063910 -0.083721 -0.008160\n",
       "인명피해수    0.223046  0.989927  1.000000  0.178026  0.167744 -0.079848 -0.011749\n",
       "재산피해금액   0.762725  0.071223  0.178026  1.000000  0.867862  0.005275 -0.032819\n",
       "전체인력수합계  0.740698  0.063910  0.167744  0.867862  1.000000 -0.018038 -0.053468\n",
       "온도       0.014389 -0.083721 -0.079848  0.005275 -0.018038  1.000000 -0.114595\n",
       "습도      -0.026514 -0.008160 -0.011749 -0.032819 -0.053468 -0.114595  1.000000"
      ]
     },
     "execution_count": 203,
     "metadata": {},
     "output_type": "execute_result"
    }
   ],
   "source": [
    "g = df_1.corr()\n",
    "g"
   ]
  },
  {
   "cell_type": "code",
   "execution_count": 209,
   "id": "80ac838a",
   "metadata": {},
   "outputs": [
    {
     "data": {
      "text/plain": [
       "<AxesSubplot:>"
      ]
     },
     "execution_count": 209,
     "metadata": {},
     "output_type": "execute_result"
    },
    {
     "data": {
      "image/png": "[encoded data removed]",
      "text/plain": [
       "<Figure size 720x576 with 2 Axes>"
      ]
     },
     "metadata": {
      "needs_background": "light"
     },
     "output_type": "display_data"
    }
   ],
   "source": [
    "plt.figure(figsize=(10,8))\n",
    "sns.heatmap(g, annot=True)"
   ]
  },
  {
   "cell_type": "code",
   "execution_count": 229,
   "id": "7d550850",
   "metadata": {},
   "outputs": [
    {
     "data": {
      "text/plain": [
       "12"
      ]
     },
     "execution_count": 229,
     "metadata": {},
     "output_type": "execute_result"
    }
   ],
   "source": [
    "z['month'][1]"
   ]
  },
  {
   "cell_type": "code",
   "execution_count": null,
   "id": "6a54c028",
   "metadata": {},
   "outputs": [],
   "source": []
  }
 ],
 "metadata": {
  "kernelspec": {
   "display_name": "Python 3 (ipykernel)",
   "language": "python",
   "name": "python3"
  },
  "language_info": {
   "codemirror_mode": {
    "name": "ipython",
    "version": 3
   },
   "file_extension": ".py",
   "mimetype": "text/x-python",
   "name": "python",
   "nbconvert_exporter": "python",
   "pygments_lexer": "ipython3",
   "version": "3.9.7"
  }
 },
 "nbformat": 4,
 "nbformat_minor": 5
}
